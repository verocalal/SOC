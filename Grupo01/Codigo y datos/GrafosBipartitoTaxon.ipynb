{
 "cells": [
  {
   "cell_type": "code",
   "execution_count": 1,
   "metadata": {},
   "outputs": [
    {
     "name": "stdout",
     "output_type": "stream",
     "text": [
      "Introduce año entre los siguientes: 2018, 1996 y 1975: 1975\n",
      "Introduce Term o Purpose Purpose\n"
     ]
    }
   ],
   "source": [
    "param = str(input(\"Introduce año entre los siguientes: 2018, 1996 y 1975: \"))\n",
    "param2 = str(input(\"Introduce Term o Purpose \"))\n",
    "#por si acaso no lo pone literal\n",
    "ok = False\n",
    "while(not ok):\n",
    "    if (param2.lower() == 'term'):\n",
    "        param2 = 'Term'\n",
    "        ok = True\n",
    "    elif (param2.lower() == 'purpose'):   \n",
    "        param2 = 'Purpose'\n",
    "        ok = True\n",
    "    else:\n",
    "        print(\"Dato incorrecto\")\n",
    "        param2 = str(input(\"Introduce Term o Purpose \"))"
   ]
  },
  {
   "cell_type": "code",
   "execution_count": 2,
   "metadata": {},
   "outputs": [],
   "source": [
    "import csv\n",
    "%precision 2\n",
    "#leemos todos los datos del fichero\n",
    "with open('datos' + param + '.csv') as csvfile:\n",
    "    cites = list(csv.DictReader(csvfile, delimiter=';'))"
   ]
  },
  {
   "cell_type": "code",
   "execution_count": 3,
   "metadata": {
    "scrolled": true
   },
   "outputs": [
    {
     "data": {
      "text/plain": [
       "OrderedDict([('Year', '1975'),\n",
       "             ('App.', 'I'),\n",
       "             ('Taxon', 'Melanosuchus niger'),\n",
       "             ('Class', 'Reptilia'),\n",
       "             ('Order', 'Crocodylia'),\n",
       "             ('Family', 'Alligatoridae'),\n",
       "             ('Genus', 'Melanosuchus'),\n",
       "             ('Importer', 'CH'),\n",
       "             ('Exporter', 'FR'),\n",
       "             ('Origin', ''),\n",
       "             ('Importer reported quantity', '50'),\n",
       "             ('Exporter reported quantity', ''),\n",
       "             ('Term', 'skins'),\n",
       "             ('Unit', ''),\n",
       "             ('Purpose', ''),\n",
       "             ('Source', '')])"
      ]
     },
     "execution_count": 3,
     "metadata": {},
     "output_type": "execute_result"
    }
   ],
   "source": [
    "cites[1] #enseñamos como se mostraria cada linea, se ve que hay que separar mas los datos"
   ]
  },
  {
   "cell_type": "code",
   "execution_count": 4,
   "metadata": {},
   "outputs": [
    {
     "name": "stdout",
     "output_type": "stream",
     "text": [
      "36\n",
      "85\n",
      "20\n",
      "7\n",
      "13\n"
     ]
    }
   ],
   "source": [
    "#Los conjuntos de nodos posibles son: taxon, familia y order. Y el otro purpose y terms.\n",
    "#Vamos a usar purpose y terms con un conjunto de nodos animales, y veremos cual es el mejor\n",
    "family_nodes = set()\n",
    "taxon_nodes = set()\n",
    "order_nodes = set()\n",
    "purpose_nodes = set()\n",
    "term_nodes = set()\n",
    "for elem in cites:\n",
    "    family_nodes.add(elem['Family'])\n",
    "    order_nodes.add(elem['Order'])\n",
    "    taxon_nodes.add(elem['Taxon'])\n",
    "    purpose_nodes.add(elem['Purpose'])\n",
    "    term_nodes.add(elem['Term'])\n",
    "    \n",
    "print(len(family_nodes))\n",
    "print(len(taxon_nodes))\n",
    "print(len(order_nodes))\n",
    "print(len(purpose_nodes))\n",
    "print(len(term_nodes))\n",
    "\n",
    "#como podemos ver, hay mas taxon que familia y orden, por lo que decidimos hacer que los nodos 'animales' sean taxon.\n",
    "#hacemos dos grafos, uno con taxon-term y otro con taxon-purpose"
   ]
  },
  {
   "cell_type": "code",
   "execution_count": 5,
   "metadata": {},
   "outputs": [],
   "source": [
    "#grafo bipartito de taxon y terms\n",
    "%matplotlib notebook\n",
    "import networkx as nx\n",
    "from networkx.algorithms import bipartite\n",
    "from IPython.core.debugger import set_trace\n",
    "\n",
    "import matplotlib.pyplot as plt\n",
    "\n",
    "BG = nx.Graph()\n",
    "\n",
    "for elem in cites:\n",
    "    if(elem[param2] != '' and elem['Taxon'] != ''): #filtramos ya que hay vacios\n",
    "        BG.add_node(elem['Taxon'], bipartite=0)\n",
    "        BG.add_node(elem[param2], bipartite=1)\n",
    "        BG.add_edge(elem[param2], elem['Taxon'])\n"
   ]
  },
  {
   "cell_type": "code",
   "execution_count": 6,
   "metadata": {},
   "outputs": [
    {
     "name": "stdout",
     "output_type": "stream",
     "text": [
      "[('Elephas maximus', 'Q'), ('Equus przewalskii', 'B'), ('Equus przewalskii', 'Z'), ('B', 'Ciconia nigra'), ('Z', 'Panthera pardus'), ('Z', 'Panthera uncia'), ('Z', 'Pongo pygmaeus'), ('Z', 'Anodorhynchus leari'), ('Z', 'Leucopsar rothschildi'), ('Z', 'Tapirus indicus'), ('Z', 'Ailurus fulgens'), ('Z', 'Falco biarmicus'), ('Z', 'Panthera tigris'), ('Z', 'Pan troglodytes'), ('Z', 'Diceros bicornis'), ('Grus americana', 'S'), ('Lophura swinhoii', 'P'), ('P', 'Syrmaticus humiae'), ('P', 'Varanus bengalensis'), ('P', 'Caiman crocodilus'), ('P', 'Branta ruficollis'), ('P', 'Dendrocygna arborea'), ('P', 'Probosciger aterrimus'), ('P', 'Polihierax semitorquatus'), ('P', 'Leopardus pardalis'), ('P', 'Leopardus wiedii'), ('P', 'Heloderma horridum'), ('P', 'Polyplectron bicalcaratum'), ('P', 'Eunymphicus cornutus'), ('P', 'Prosopeia personata'), ('P', 'Python curtus'), ('P', 'Varanus salvator'), ('Boa constrictor', 'T'), ('T', 'Eunectes notaeus'), ('T', 'Tanygnathus lucionensis'), ('T', 'Python bivittatus'), ('T', 'Python regius'), ('T', 'Python reticulatus'), ('T', 'Python sebae'), ('T', 'Chelonoidis carbonarius'), ('T', 'Indotestudo elongata'), ('T', 'Malacochersus tornieri'), ('T', 'Stigmochelys pardalis'), ('T', 'Testudo hermanni'), ('T', 'Varanus exanthematicus'), ('T', 'Varanus niloticus'), ('T', 'Varanus rudicollis')]\n"
     ]
    }
   ],
   "source": [
    "print(BG.edges)"
   ]
  },
  {
   "cell_type": "code",
   "execution_count": 7,
   "metadata": {},
   "outputs": [
    {
     "data": {
      "text/plain": [
       "True"
      ]
     },
     "execution_count": 7,
     "metadata": {},
     "output_type": "execute_result"
    }
   ],
   "source": [
    "nx.is_bipartite(BG)"
   ]
  },
  {
   "cell_type": "code",
   "execution_count": 8,
   "metadata": {},
   "outputs": [],
   "source": [
    "#hacemos la lista de nodos para que gephi pueda leer el archivo correctamente\n",
    "#la columna bipartire es para poder visualizarlo mejor en gephi, con colores dependiendo de que conjunto pertenece\n",
    "f=open(\"node_list_\" + param + \"_taxon-\" + param2 + \".csv\",\"w\", encoding = \"utf-8\")\n",
    "f.write(\"ID\\tLabel\\tBipartito\\n\")\n",
    "cont=1\n",
    "mapa = {}\n",
    "for n, d in BG.nodes(data=True):\n",
    "    f.write(str(cont) + \"\\t\" + n + \"\\t\" + str(d['bipartite']) + \"\\n\")\n",
    "    mapa[n] = cont\n",
    "    cont = cont + 1\n",
    "f.close() "
   ]
  },
  {
   "cell_type": "code",
   "execution_count": 9,
   "metadata": {},
   "outputs": [],
   "source": [
    "#hacemos la lista de aristas para que gephi pueda leer el archivo correctamente\n",
    "f=open(\"edge_list_\" + param + \"_taxon-\" + param2 + \".csv\",\"w\", encoding = \"utf-8\")\n",
    "f.write(\"Source\\tTarget\\n\")\n",
    "for e in BG.edges:\n",
    "    f.write(str(mapa[e[0]]) + \"\\t\" + str(mapa[e[1]]) + \"\\n\")\n",
    "f.close()"
   ]
  }
 ],
 "metadata": {
  "kernelspec": {
   "display_name": "Python 3",
   "language": "python",
   "name": "python3"
  },
  "language_info": {
   "codemirror_mode": {
    "name": "ipython",
    "version": 3
   },
   "file_extension": ".py",
   "mimetype": "text/x-python",
   "name": "python",
   "nbconvert_exporter": "python",
   "pygments_lexer": "ipython3",
   "version": "3.7.3"
  }
 },
 "nbformat": 4,
 "nbformat_minor": 2
}
