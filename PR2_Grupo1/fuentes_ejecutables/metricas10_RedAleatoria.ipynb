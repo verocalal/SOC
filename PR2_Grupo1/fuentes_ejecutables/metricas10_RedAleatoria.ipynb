{
 "cells": [
  {
   "cell_type": "code",
   "execution_count": null,
   "metadata": {},
   "outputs": [],
   "source": [
    "import networkx as nx\n",
    "import random\n",
    "%matplotlib inline"
   ]
  },
  {
   "cell_type": "code",
   "execution_count": null,
   "metadata": {},
   "outputs": [],
   "source": [
    "#generacion de la red aleatoria\n",
    "def red_aleatoria(N, p):\n",
    "    G = nx.Graph()\n",
    "    G.add_nodes_from(range(N))\n",
    "    for n1 in range(N) :\n",
    "        for n2 in range(n1+1,N) :\n",
    "            numAleat = random.random() #de 0 a 1 \n",
    "            if (numAleat <= p) :\n",
    "                G.add_edge(n1,n2)\n",
    "                \n",
    "    return G"
   ]
  },
  {
   "cell_type": "code",
   "execution_count": null,
   "metadata": {},
   "outputs": [],
   "source": [
    "#codigo para la media de 10 redes aleatorias junto con las medidas significativas\n",
    "#avgPath solo se puede hacer cuando la red este en la etapa conectada\n",
    "grMedio = 0\n",
    "aristas = 0\n",
    "densidad = 0\n",
    "avgPath = 0\n",
    "clustering = 0\n",
    "maxHubSize = 0\n",
    "compConexa = 0\n",
    "elemsGigante = 0\n",
    "nodos = int(input(\"Introduce num nodos \"))\n",
    "probablidad = float(input(\"Introduce probabilidad \"))\n",
    "\n",
    "\n",
    "for i in range (0, 10):\n",
    "    G = red_aleatoria(nodos, probablidad)\n",
    "    #nx.draw(G)\n",
    "\n",
    "\n",
    "\n",
    "    k = 0\n",
    "    for n in G.nodes():\n",
    "        k = k + G.degree[n]\n",
    "    \n",
    "    k = k/nodos\n",
    "    \n",
    "    grMedio += k\n",
    "    aristas += G.number_of_edges()\n",
    "    densidad += nx.density(G)\n",
    "   # avgPath += nx.average_shortest_path_length(G)\n",
    "    clustering += nx.average_clustering(G)\n",
    "    \n",
    "    degree_sequence = sorted([d for n, d in G.degree()], reverse=True)\n",
    "    dmax = max(degree_sequence)\n",
    "    maxHubSize += dmax\n",
    "    compConexa += nx.number_connected_components(G)\n",
    "    Gc = max(nx.connected_component_subgraphs(G), key=len)\n",
    "    elemsGigante += Gc.number_of_nodes()\n",
    "grMedio = grMedio/10.0\n",
    "aristas = aristas/10.0\n",
    "densidad = densidad/10.0\n",
    "#avgPath = avgPath/10.0\n",
    "clustering = clustering/10.0\n",
    "maxHubSize = maxHubSize/10.0\n",
    "compConexa = compConexa/10.0\n",
    "elemsGigante = elemsGigante/10.0\n",
    "print('grado medio ')\n",
    "print(grMedio)\n",
    "print('aristas')\n",
    "print(aristas)\n",
    "print('densidad')\n",
    "print(densidad)\n",
    "#print('d (media camino mas corto)')\n",
    "#print(avgPath)\n",
    "print('clustering medio')\n",
    "print(clustering)\n",
    "print('max hub size')\n",
    "print(maxHubSize)\n",
    "print('numero de componentes conexas')\n",
    "print(compConexa)\n",
    "print('elementos componente gigante')\n",
    "print(elemsGigante)"
   ]
  }
 ],
 "metadata": {
  "kernelspec": {
   "display_name": "Python 3",
   "language": "python",
   "name": "python3"
  },
  "language_info": {
   "codemirror_mode": {
    "name": "ipython",
    "version": 3
   },
   "file_extension": ".py",
   "mimetype": "text/x-python",
   "name": "python",
   "nbconvert_exporter": "python",
   "pygments_lexer": "ipython3",
   "version": "3.7.3"
  }
 },
 "nbformat": 4,
 "nbformat_minor": 2
}
