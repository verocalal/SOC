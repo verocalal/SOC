{
 "cells": [
  {
   "cell_type": "code",
   "execution_count": 4,
   "metadata": {},
   "outputs": [],
   "source": [
    "import networkx as nx\n",
    "import random\n",
    "import math\n",
    "%matplotlib inline"
   ]
  },
  {
   "cell_type": "code",
   "execution_count": 5,
   "metadata": {},
   "outputs": [],
   "source": [
    "def red_barabasi(t, m, G):\n",
    "    m = m0 - 1\n",
    "    for i in range (m0, t+m0):\n",
    "        G.add_node(i) # primero se aniade el nodo\n",
    "        grados = nx.degree(G)\n",
    "        probabilidades = {}\n",
    "        sumGrados = 0\n",
    "        for j in range (0, i):\n",
    "            sumGrados += G.degree(j)\n",
    "        \n",
    "        for nodo in range (0, i):\n",
    "            probabilidades[nodo] = (float)(grados[nodo])/sumGrados #aplicamos formula para coger probabilidades\n",
    "            \n",
    "        #print('Probabilidades')\n",
    "        #print(probabilidades)\n",
    "        probabilidadesAcumuladas = []\n",
    "        anterior = 0\n",
    "    \n",
    "        for node, prob in probabilidades.items():\n",
    "            elemento = [node, anterior + prob]\n",
    "            probabilidadesAcumuladas.append(elemento)\n",
    "            anterior = anterior + prob\n",
    "        \n",
    "        #print('Probabilidades acumuladas')\n",
    "        #print(probabilidadesAcumuladas)\n",
    "        aristasPuestas = 0\n",
    "        nuevasAristas = []\n",
    "        nodosDestino = []\n",
    "        \n",
    "        while(aristasPuestas < m):\n",
    "            r = random.random()\n",
    "            k = 0\n",
    "            # con 1 se refiere al valor de prob del k nodo\n",
    "            while(probabilidadesAcumuladas[k][1] < r and k < i):\n",
    "                k = k + 1\n",
    "            nodoDestino = probabilidadesAcumuladas[k][0]\n",
    "            if nodoDestino in nodosDestino:\n",
    "                continue\n",
    "           \n",
    "            nodosDestino.append(nodoDestino)\n",
    "            G.add_edge(i, nodoDestino)\n",
    "            nuevasAristas.append((i, nodoDestino))\n",
    "            aristasPuestas += 1\n",
    "            \n",
    "            \n",
    "        #print(nuevasAristas)\n",
    "        \n",
    "    \n",
    "    \n",
    "    return G"
   ]
  },
  {
   "cell_type": "code",
   "execution_count": 10,
   "metadata": {},
   "outputs": [
    {
     "name": "stdout",
     "output_type": "stream",
     "text": [
      "Introduce num nodos 1894\n",
      "Introduce m 9\n"
     ]
    },
    {
     "data": {
      "image/png": "[encoded data removed]",
      "text/plain": [
       "<Figure size 432x288 with 1 Axes>"
      ]
     },
     "metadata": {},
     "output_type": "display_data"
    }
   ],
   "source": [
    "nodos = int(input(\"Introduce num nodos \"))\n",
    "m = int(input(\"Introduce m \"))\n",
    "m0 = m + 1\n",
    "G = nx.complete_graph(m0)\n",
    "t = nodos - m0\n",
    "G = red_barabasi(t, m, G)\n",
    "nx.draw(G)"
   ]
  },
  {
   "cell_type": "code",
   "execution_count": 12,
   "metadata": {},
   "outputs": [],
   "source": [
    "#hacemos la lista de nodos para que gephi pueda leer el archivo correctamente\n",
    "f=open(\"node_list.csv\",\"w\", encoding = \"utf-8\")\n",
    "f.write(\"ID\\tLabel\\n\")\n",
    "cont=0\n",
    "mapa = {}\n",
    "for n in G.nodes():\n",
    "    f.write(str(cont) + \"\\t\" + str(n) + \"\\n\")\n",
    "    mapa[n] = cont\n",
    "    cont = cont + 1\n",
    "f.close()  "
   ]
  },
  {
   "cell_type": "code",
   "execution_count": 13,
   "metadata": {},
   "outputs": [],
   "source": [
    "#hacemos la lista de aristas para que gephi pueda leer el archivo correctamente\n",
    "f=open(\"edge_list.csv\",\"w\", encoding = \"utf-8\")\n",
    "f.write(\"Source\\tTarget\\n\")\n",
    "for e in G.edges():\n",
    "    f.write(str(mapa[e[0]]) + \"\\t\" + str(mapa[e[1]]) + \"\\n\")\n",
    "f.close()"
   ]
  }
 ],
 "metadata": {
  "kernelspec": {
   "display_name": "Python 3",
   "language": "python",
   "name": "python3"
  },
  "language_info": {
   "codemirror_mode": {
    "name": "ipython",
    "version": 3
   },
   "file_extension": ".py",
   "mimetype": "text/x-python",
   "name": "python",
   "nbconvert_exporter": "python",
   "pygments_lexer": "ipython3",
   "version": "3.7.3"
  }
 },
 "nbformat": 4,
 "nbformat_minor": 2
}
